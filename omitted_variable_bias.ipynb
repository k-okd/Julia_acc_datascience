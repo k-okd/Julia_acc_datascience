{
 "cells": [
  {
   "cell_type": "code",
   "execution_count": 1,
   "metadata": {},
   "outputs": [],
   "source": [
    "using GLM, Plots, Random, Distributions, DataFrames"
   ]
  },
  {
   "cell_type": "code",
   "execution_count": 17,
   "metadata": {},
   "outputs": [
    {
     "data": {
      "text/plain": [
       "1000-element Array{Float64,1}:\n",
       "  452.7884948372433\n",
       "  150.81044209753074\n",
       "  273.2542806690121\n",
       "   -9.529438124785298\n",
       " -144.7570726772508\n",
       "  236.87915667578437\n",
       "    0.6136509183016017\n",
       "   46.16486658027818\n",
       "   66.82406311618568\n",
       "   39.697150537758986\n",
       "  -33.22317336919835\n",
       "  293.3918358176822\n",
       "   15.000037862305653\n",
       "    ⋮\n",
       "  -70.29336096000331\n",
       "   95.56954664962169\n",
       "  120.09491560018168\n",
       "  144.683655747367\n",
       "  102.23463858005515\n",
       "  249.68687294474597\n",
       "  -31.319539018932858\n",
       "  189.79196738376055\n",
       "  241.9082064089732\n",
       "   83.14072012793523\n",
       "   74.42607675282753\n",
       "   20.697070706850397"
      ]
     },
     "execution_count": 17,
     "metadata": {},
     "output_type": "execute_result"
    }
   ],
   "source": [
    "Random.seed!(0)\n",
    "d = Normal(0,100)\n",
    "z = [rand(Uniform(0,1000)) for i = 1 : 1000]\n",
    "x = [rand(d) for i = 1 : 1000] + z * 0.05\n",
    "e = [rand(d) for i = 1 : 1000]\n",
    "y = x * 0.8 + z * 0.25 + e"
   ]
  },
  {
   "cell_type": "code",
   "execution_count": 18,
   "metadata": {},
   "outputs": [
    {
     "data": {
      "text/plain": [
       "LinearModel{GLM.LmResp{Array{Float64,1}},GLM.DensePredChol{Float64,LinearAlgebra.Cholesky{Float64,Array{Float64,2}}}}:\n",
       "\n",
       "Coefficients:\n",
       "─────────────────────────────────────────────────────────────────────\n",
       "      Estimate  Std. Error  t value  Pr(>|t|)   Lower 95%   Upper 95%\n",
       "─────────────────────────────────────────────────────────────────────\n",
       "x1  123.27       3.83219    32.1671    <1e-99  115.75      130.79\n",
       "x2    0.925223   0.0368821  25.086     <1e-99    0.852847    0.997598\n",
       "─────────────────────────────────────────────────────────────────────\n"
      ]
     },
     "execution_count": 18,
     "metadata": {},
     "output_type": "execute_result"
    }
   ],
   "source": [
    "lm([ones(1000) x], y)"
   ]
  },
  {
   "cell_type": "code",
   "execution_count": 19,
   "metadata": {},
   "outputs": [
    {
     "data": {
      "text/plain": [
       "LinearModel{GLM.LmResp{Array{Float64,1}},GLM.DensePredChol{Float64,LinearAlgebra.Cholesky{Float64,Array{Float64,2}}}}:\n",
       "\n",
       "Coefficients:\n",
       "───────────────────────────────────────────────────────────────────\n",
       "    Estimate  Std. Error    t value  Pr(>|t|)  Lower 95%  Upper 95%\n",
       "───────────────────────────────────────────────────────────────────\n",
       "x1  1.97979    6.09562     0.324789    0.7454  -9.98192   13.9415\n",
       "x2  0.82638    0.0300895  27.4641      <1e-99   0.767334   0.885426\n",
       "x3  0.246012   0.0106519  23.0957      <1e-94   0.225109   0.266915\n",
       "───────────────────────────────────────────────────────────────────\n"
      ]
     },
     "execution_count": 19,
     "metadata": {},
     "output_type": "execute_result"
    }
   ],
   "source": [
    "lm([ones(1000) x z], y)"
   ]
  },
  {
   "cell_type": "code",
   "execution_count": 20,
   "metadata": {},
   "outputs": [
    {
     "data": {
      "text/plain": [
       "LinearModel{GLM.LmResp{Array{Float64,1}},GLM.DensePredChol{Float64,LinearAlgebra.Cholesky{Float64,Array{Float64,2}}}}:\n",
       "\n",
       "Coefficients:\n",
       "─────────────────────────────────────────────────────────────────────\n",
       "     Estimate  Std. Error   t value  Pr(>|t|)   Lower 95%   Upper 95%\n",
       "─────────────────────────────────────────────────────────────────────\n",
       "x1  493.027     9.19639    53.6109     <1e-99  474.98      511.073\n",
       "x2    0.40178   0.0885087   4.53945    <1e-5     0.228096    0.575465\n",
       "─────────────────────────────────────────────────────────────────────\n"
      ]
     },
     "execution_count": 20,
     "metadata": {},
     "output_type": "execute_result"
    }
   ],
   "source": [
    "lm([ones(1000) x], z)"
   ]
  },
  {
   "cell_type": "code",
   "execution_count": 22,
   "metadata": {},
   "outputs": [
    {
     "data": {
      "text/plain": [
       "1000-element Array{Float64,1}:\n",
       " 219.04221171648163\n",
       " 250.8789710496346\n",
       " 239.59665311360428\n",
       "   8.450809844906814\n",
       "  12.469663494582491\n",
       "  90.53569152782252\n",
       "  89.70947310258747\n",
       " -27.795388293759633\n",
       "  37.6341431569864\n",
       " 140.8803192925086\n",
       "  44.75138974797993\n",
       " 104.43521675459913\n",
       "  95.09576729960091\n",
       "   ⋮\n",
       " -13.830621393381396\n",
       " 134.75262917945344\n",
       " 112.5820152080133\n",
       " 173.92767072574762\n",
       "  54.01344489221748\n",
       " 184.32873968928837\n",
       " -26.180013782564004\n",
       " 134.81565309527025\n",
       " 190.41634593865666\n",
       " 158.52605694236297\n",
       " 142.41554834699213\n",
       "   1.3371544246074905"
      ]
     },
     "execution_count": 22,
     "metadata": {},
     "output_type": "execute_result"
    }
   ],
   "source": [
    "y = z * 0.25 + e"
   ]
  },
  {
   "cell_type": "code",
   "execution_count": 23,
   "metadata": {},
   "outputs": [
    {
     "data": {
      "text/plain": [
       "LinearModel{GLM.LmResp{Array{Float64,1}},GLM.DensePredChol{Float64,LinearAlgebra.Cholesky{Float64,Array{Float64,2}}}}:\n",
       "\n",
       "Coefficients:\n",
       "───────────────────────────────────────────────────────────────────────\n",
       "      Estimate  Std. Error   t value  Pr(>|t|)    Lower 95%   Upper 95%\n",
       "───────────────────────────────────────────────────────────────────────\n",
       "x1  123.27       3.83219    32.1671     <1e-99  115.75       130.79\n",
       "x2    0.125223   0.0368821   3.39522    0.0007    0.0528474    0.197598\n",
       "───────────────────────────────────────────────────────────────────────\n"
      ]
     },
     "execution_count": 23,
     "metadata": {},
     "output_type": "execute_result"
    }
   ],
   "source": [
    "lm([ones(1000) x], y)"
   ]
  },
  {
   "cell_type": "code",
   "execution_count": 24,
   "metadata": {},
   "outputs": [
    {
     "data": {
      "text/plain": [
       "LinearModel{GLM.LmResp{Array{Float64,1}},GLM.DensePredChol{Float64,LinearAlgebra.Cholesky{Float64,Array{Float64,2}}}}:\n",
       "\n",
       "Coefficients:\n",
       "──────────────────────────────────────────────────────────────────────\n",
       "     Estimate  Std. Error    t value  Pr(>|t|)   Lower 95%   Upper 95%\n",
       "──────────────────────────────────────────────────────────────────────\n",
       "x1  1.97979     6.09562     0.324789    0.7454  -9.98192    13.9415\n",
       "x2  0.0263799   0.0300895   0.876715    0.3809  -0.0326661   0.0854258\n",
       "x3  0.246012    0.0106519  23.0957      <1e-94   0.225109    0.266915\n",
       "──────────────────────────────────────────────────────────────────────\n"
      ]
     },
     "execution_count": 24,
     "metadata": {},
     "output_type": "execute_result"
    }
   ],
   "source": [
    "lm([ones(1000) x z], y)"
   ]
  },
  {
   "cell_type": "code",
   "execution_count": null,
   "metadata": {},
   "outputs": [],
   "source": []
  }
 ],
 "metadata": {
  "kernelspec": {
   "display_name": "Julia 1.4.1",
   "language": "julia",
   "name": "julia-1.4"
  },
  "language_info": {
   "file_extension": ".jl",
   "mimetype": "application/julia",
   "name": "julia",
   "version": "1.4.1"
  }
 },
 "nbformat": 4,
 "nbformat_minor": 4
}
